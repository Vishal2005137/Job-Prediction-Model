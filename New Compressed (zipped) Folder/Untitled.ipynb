{
 "cells": [
  {
   "cell_type": "code",
   "execution_count": 5,
   "id": "27467a66-ef39-4d60-9de2-e98bffabf873",
   "metadata": {},
   "outputs": [],
   "source": [
    "import threading\n",
    "import gui_app\n",
    "\n",
    "# Run the app in a separate thread to avoid blocking the notebook\n",
    "thread = threading.Thread(target=gui_app.run_app)\n",
    "thread.start()"
   ]
  },
  {
   "cell_type": "code",
   "execution_count": null,
   "id": "250c2ec5-3804-476c-bc7b-6530ffbee247",
   "metadata": {},
   "outputs": [],
   "source": []
  }
 ],
 "metadata": {
  "kernelspec": {
   "display_name": "Python 3 (ipykernel)",
   "language": "python",
   "name": "python3"
  },
  "language_info": {
   "codemirror_mode": {
    "name": "ipython",
    "version": 3
   },
   "file_extension": ".py",
   "mimetype": "text/x-python",
   "name": "python",
   "nbconvert_exporter": "python",
   "pygments_lexer": "ipython3",
   "version": "3.12.7"
  }
 },
 "nbformat": 4,
 "nbformat_minor": 5
}
